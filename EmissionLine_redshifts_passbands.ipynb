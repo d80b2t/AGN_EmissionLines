{
 "cells": [
  {
   "cell_type": "markdown",
   "metadata": {},
   "source": [
    "Python code to figure out/state when various (quasar) emission lines \n",
    "move in and out of various SDSS/UKIDSS/WISE and JWST passbands"
   ]
  },
  {
   "cell_type": "code",
   "execution_count": 10,
   "metadata": {
    "collapsed": true
   },
   "outputs": [],
   "source": [
    "import numpy as np"
   ]
  },
  {
   "cell_type": "code",
   "execution_count": 11,
   "metadata": {
    "collapsed": true
   },
   "outputs": [],
   "source": [
    "np.set_printoptions(precision=3)"
   ]
  },
  {
   "cell_type": "code",
   "execution_count": 12,
   "metadata": {},
   "outputs": [],
   "source": [
    "## Table 9, Peth et al. (2011, AJ, 141, 105)\n",
    "u = np.array([ 3005,  3551,  4000])\n",
    "g = np.array([ 3720,  4686,  5680]) \n",
    "r = np.array([ 5370,  6166,  7120])\n",
    "i = np.array([ 6770,  7480,  8380])\n",
    "z = np.array([ 8000,  8932, 10620])\n",
    "Y = np.array([ 9790, 10305, 10810])\n",
    "J = np.array([11690, 12483, 13280])\n",
    "H = np.array([14920, 16313, 17840])\n",
    "K = np.array([20290, 22010, 23800])"
   ]
  },
  {
   "cell_type": "code",
   "execution_count": 13,
   "metadata": {},
   "outputs": [
    {
     "data": {
      "text/plain": [
       "numpy.ndarray"
      ]
     },
     "execution_count": 13,
     "metadata": {},
     "output_type": "execute_result"
    }
   ],
   "source": [
    "type(u)"
   ]
  },
  {
   "cell_type": "code",
   "execution_count": 14,
   "metadata": {
    "collapsed": true
   },
   "outputs": [],
   "source": [
    "Lyman_alpha_lambda = 1215.67   ## VdB01, Table 2, lambda_lab"
   ]
  },
  {
   "cell_type": "code",
   "execution_count": 15,
   "metadata": {},
   "outputs": [],
   "source": [
    "u_Ly = (u/Lyman_alpha_lambda)-1\n",
    "g_Ly = (g/Lyman_alpha_lambda)-1\n",
    "r_Ly = (r/Lyman_alpha_lambda)-1\n",
    "i_Ly = (i/Lyman_alpha_lambda)-1\n",
    "z_Ly = (z/Lyman_alpha_lambda)-1\n",
    "Y_Ly = (Y/Lyman_alpha_lambda)-1\n",
    "J_Ly = (J/Lyman_alpha_lambda)-1\n",
    "H_Ly = (H/Lyman_alpha_lambda)-1\n",
    "K_Ly = (K/Lyman_alpha_lambda)-1"
   ]
  },
  {
   "cell_type": "code",
   "execution_count": 16,
   "metadata": {},
   "outputs": [
    {
     "data": {
      "text/plain": [
       "array([1.472, 1.921, 2.29 ])"
      ]
     },
     "execution_count": 16,
     "metadata": {},
     "output_type": "execute_result"
    }
   ],
   "source": [
    "u_Ly"
   ]
  },
  {
   "cell_type": "code",
   "execution_count": 19,
   "metadata": {},
   "outputs": [
    {
     "data": {
      "text/plain": [
       "numpy.float64"
      ]
     },
     "execution_count": 19,
     "metadata": {},
     "output_type": "execute_result"
    }
   ],
   "source": [
    "type(u_Ly[0])"
   ]
  },
  {
   "cell_type": "code",
   "execution_count": null,
   "metadata": {
    "collapsed": true
   },
   "outputs": [],
   "source": []
  },
  {
   "cell_type": "code",
   "execution_count": 26,
   "metadata": {},
   "outputs": [
    {
     "name": "stdout",
     "output_type": "stream",
     "text": [
      "Lyman-alpha enters u-band at redshift  1.472 and exits at   2.290\n",
      "Lyman-alpha enters g-band at redshift  2.060 and exits at   3.672\n",
      "Lyman-alpha enters r-band at redshift  3.417 and exits at   4.857\n",
      "Lyman-alpha enters i-band at redshift  4.569 and exits at   5.893\n",
      "Lyman-alpha enters z-band at redshift  5.581 and exits at   7.736\n",
      "Lyman-alpha enters Y-band at redshift  7.053 and exits at   7.892\n",
      "Lyman-alpha enters J-band at redshift  8.616 and exits at   9.924\n",
      "Lyman-alpha enters H-band at redshift 11.273 and exits at  13.675\n",
      "Lyman-alpha enters K-band at redshift 15.690 and exits at  18.578\n"
     ]
    }
   ],
   "source": [
    "print('Lyman-alpha enters u-band at redshift' , \"%6.3f\" % u_Ly[0], 'and exits at ', \"%6.3f\" % u_Ly[-1])\n",
    "print('Lyman-alpha enters g-band at redshift' , \"%6.3f\" % g_Ly[0], 'and exits at ', \"%6.3f\" % g_Ly[-1])\n",
    "print('Lyman-alpha enters r-band at redshift' , \"%6.3f\" % r_Ly[0], 'and exits at ', \"%6.3f\" % r_Ly[-1])\n",
    "print('Lyman-alpha enters i-band at redshift' , \"%6.3f\" % i_Ly[0], 'and exits at ', \"%6.3f\" % i_Ly[-1])\n",
    "print('Lyman-alpha enters z-band at redshift' , \"%6.3f\" % z_Ly[0], 'and exits at ', \"%6.3f\" % z_Ly[-1])\n",
    "print('Lyman-alpha enters Y-band at redshift' , \"%6.3f\" % Y_Ly[0], 'and exits at ', \"%6.3f\" % Y_Ly[-1])\n",
    "print('Lyman-alpha enters J-band at redshift' , \"%6.3f\" % J_Ly[0], 'and exits at ', \"%6.3f\" % J_Ly[-1])\n",
    "print('Lyman-alpha enters H-band at redshift' , \"%6.3f\" % H_Ly[0], 'and exits at ', \"%6.3f\" % H_Ly[-1])\n",
    "print('Lyman-alpha enters K-band at redshift' , \"%6.3f\" % K_Ly[0], 'and exits at ', \"%6.3f\" % K_Ly[-1])"
   ]
  },
  {
   "cell_type": "code",
   "execution_count": null,
   "metadata": {
    "collapsed": true
   },
   "outputs": [],
   "source": []
  }
 ],
 "metadata": {
  "anaconda-cloud": {},
  "kernelspec": {
   "display_name": "Python [default]",
   "language": "python",
   "name": "python3"
  },
  "language_info": {
   "codemirror_mode": {
    "name": "ipython",
    "version": 3
   },
   "file_extension": ".py",
   "mimetype": "text/x-python",
   "name": "python",
   "nbconvert_exporter": "python",
   "pygments_lexer": "ipython3",
   "version": "3.5.2"
  }
 },
 "nbformat": 4,
 "nbformat_minor": 2
}
